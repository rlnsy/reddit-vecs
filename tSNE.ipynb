{
 "cells": [
  {
   "cell_type": "markdown",
   "metadata": {},
   "source": [
    "# Applying TFIDF Vectors and t-SNE to Subreddit Content\n",
    "While researching for this project, I discovered a whole lot of subreddit mappings and visualaztions out there. Most of them employ user engagement as a metric for modularity detection. (Insert Sources). Since this project is based on breaking free of traditional user interest-patterns, I decided to quantify subreddit differences by content alone, in much the same way as Andrej Kaparthy does in [this blog post](http://karpathy.github.io/2014/07/02/visualizing-top-tweeps-with-t-sne-in-Javascript/).\n",
    "\n",
    "## Collecting Data\n",
    "Using the previously mentioned post as a rough guide, I started implementing the community difference analysis. Initial analysis, I simply downloaded comment text from a large handful of default subreddits, with the code saved in '/download.py'. Basically I just save a file for each sub with concatenated raw comment text, and a list of the files (for scikit to use later on)."
   ]
  },
  {
   "cell_type": "code",
   "execution_count": 4,
   "metadata": {},
   "outputs": [
    {
     "name": "stdout",
     "output_type": "stream",
     "text": [
      "['gadgets.txt', 'sports.txt', 'gaming.txt', 'pics.txt', 'worldnews.txt', 'videos.txt', 'AskReddit.txt', 'aww.txt', 'funny.txt', 'news.txt', 'movies.txt', 'blog.txt', 'books.txt', 'history.txt', 'food.txt', 'philosophy.txt', 'Jokes.txt', 'Art.txt', 'DIY.txt', 'space.txt', 'Documentaries.txt', 'askscience.txt', 'nottheonion.txt', 'todayilearned.txt', 'personalfinance.txt', 'gifs.txt', 'listentothis.txt', 'IAmA.txt', 'announcements.txt', 'TwoXChromosomes.txt', 'creepy.txt', 'nosleep.txt', 'GetMotivated.txt', 'WritingPrompts.txt', 'LifeProTips.txt', 'EarthPorn.txt', 'explainlikeimfive.txt', 'Showerthoughts.txt', 'Futurology.txt', 'photoshopbattles.txt', 'mildlyinteresting.txt', 'dataisbeautiful.txt', 'tifu.txt', 'OldSchoolCool.txt', 'UpliftingNews.txt', 'InternetIsBeautiful.txt', 'science.txt']\n"
     ]
    }
   ],
   "source": [
    "import pickle\n",
    "files_store = open('data/files.pickle','rb')\n",
    "files_list = pickle.load(files_store)\n",
    "print(files_list)"
   ]
  }
 ],
 "metadata": {
  "kernelspec": {
   "display_name": "Python 3",
   "language": "python",
   "name": "python3"
  },
  "language_info": {
   "codemirror_mode": {
    "name": "ipython",
    "version": 3
   },
   "file_extension": ".py",
   "mimetype": "text/x-python",
   "name": "python",
   "nbconvert_exporter": "python",
   "pygments_lexer": "ipython3",
   "version": "3.6.5"
  }
 },
 "nbformat": 4,
 "nbformat_minor": 2
}
