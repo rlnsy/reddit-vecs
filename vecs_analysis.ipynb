{
 "cells": [
  {
   "cell_type": "markdown",
   "metadata": {},
   "source": [
    "# Visualizing and Analyzing Subreddit Vector Representations\n",
    "In previous entries I generated t-SNE reduced vector representations for 1000 subreddits, and saved them to a file. Here I will produce some visualizations and applly k-means clustering to understand community similiarities and group subs. Note that the dataset includes a surprising number of 'NSFW' subreddits that appear throughout the vector space.\n",
    "\n",
    "## Visualizing All Data\n",
    "Using the amazingly simple plotly library, I produced an interactive view of the vector space. Labels appear next to subreddits showing the subreddit information and colors represent difference in subscriber numbers (default subreddits appear red) The interactive plot can be found [here](https://plot.ly/~rlindsay22/2/)."
   ]
  },
  {
   "cell_type": "code",
   "execution_count": 139,
   "metadata": {
    "scrolled": false
   },
   "outputs": [
    {
     "data": {
      "text/html": [
       "<iframe id=\"igraph\" scrolling=\"no\" style=\"border:none;\" seamless=\"seamless\" src=\"https://plot.ly/~rlindsay22/2.embed\" height=\"525px\" width=\"100%\"></iframe>"
      ],
      "text/plain": [
       "<plotly.tools.PlotlyDisplay object>"
      ]
     },
     "execution_count": 139,
     "metadata": {},
     "output_type": "execute_result"
    }
   ],
   "source": [
    "import pandas as pd\n",
    "import plotly.graph_objs as go\n",
    "from plotly.offline import download_plotlyjs, init_notebook_mode, plot, iplot\n",
    "import plotly.plotly as py\n",
    "\n",
    "vecs_df = pd.read_csv('data/vecs.csv')\n",
    "\n",
    "trace = go.Scatter(\n",
    "    x = vecs_df['x'],\n",
    "    y = vecs_df['y'],\n",
    "    mode = 'markers',\n",
    "    marker = dict(\n",
    "        size = 6,\n",
    "        color = vecs_df['subscribers'],\n",
    "        colorscale='magma',\n",
    "        showscale=True\n",
    "    ),\n",
    "    text = vecs_df['name']\n",
    ")\n",
    "\n",
    "data = [trace]\n",
    "\n",
    "py.iplot(data, filename='subreddits')"
   ]
  },
  {
   "cell_type": "markdown",
   "metadata": {},
   "source": [
    "### Observations\n",
    "Just by looking, the data appears to have significant meaningful clustering. An interesting characteristic to note is the spread out nature of the default subreddits, which makes this representation unique from interest-mapping approaches. Each default sureddit is close to subs that it shares discussion features with, rather than user engagement."
   ]
  },
  {
   "cell_type": "markdown",
   "metadata": {},
   "source": [
    "## Clustering\n",
    "Next I performed clustering using the scipy implementation of k-means. I decided to run the algorithm with initialized centroids corresponding to my best guesses at where clusters would lie, but it ended up being difficult to isolate the clusters that were actually visible in the data from the beginning, so k-means might not be the best method. I'll include the code and plot here nonetheless (I ended up plotting with k=12, but you'll notice that some of the 'clusters' are fairly meaningless."
   ]
  },
  {
   "cell_type": "code",
   "execution_count": 149,
   "metadata": {},
   "outputs": [],
   "source": [
    "from scipy.cluster.vq import kmeans as km\n",
    "\n",
    "cent_guess = [[-42,10],\n",
    "             [-40,-10],\n",
    "             [15,-60],\n",
    "             [35,30],\n",
    "             [-5,-50],\n",
    "             [20,-20],\n",
    "             [-10,30],\n",
    "             [-20,10],\n",
    "             [5,50],\n",
    "             [10,10],\n",
    "             [-25,20],\n",
    "             [0,0],\n",
    "             [40,-30],\n",
    "             [-8,8]]\n",
    "\n",
    "k = len(cent_guess)\n",
    "\n",
    "vecs = pd.read_csv('data/vecs.csv',usecols=[1,2])\n",
    "X = vecs.values\n",
    "cents,dist = km(X,cent_guess) # run k-means and get centroids"
   ]
  },
  {
   "cell_type": "code",
   "execution_count": 150,
   "metadata": {},
   "outputs": [],
   "source": [
    "import numpy as np\n",
    "import numpy.linalg as la\n",
    "\n",
    "m = X.shape[0]\n",
    "c_vals = np.zeros((m,1)) # array to hold centroid assignments\n",
    "\n",
    "# compute distances\n",
    "for i in range(0,m):\n",
    "    row = X[i,:]\n",
    "    diff = cents - row\n",
    "    diff_vals = np.zeros((k,1))\n",
    "    for c in range(0,k):\n",
    "        diff_vals[c] = la.norm(diff[c,:])\n",
    "    c_vals[i] = np.argmin(diff_vals)\n",
    "\n",
    "vecs_df['cluster'] = c_vals\n",
    "vecs_df.to_csv('data/vecs.csv', encoding='utf-8', columns=['name','x','y','subscribers','cluster'], index=False)\n",
    "\n",
    "# save the centroids\n",
    "centroid_data = {'x': cents[:,0], 'y': cents[:,1]}\n",
    "cents_df = pd.DataFrame(centroid_data,columns=['x','y'])\n",
    "cents_df.to_csv('data/centroids.csv',encoding='utf-8',columns=['x','y'], index=False)"
   ]
  },
  {
   "cell_type": "code",
   "execution_count": 151,
   "metadata": {
    "scrolled": false
   },
   "outputs": [
    {
     "data": {
      "text/html": [
       "<iframe id=\"igraph\" scrolling=\"no\" style=\"border:none;\" seamless=\"seamless\" src=\"https://plot.ly/~rlindsay22/4.embed\" height=\"525px\" width=\"100%\"></iframe>"
      ],
      "text/plain": [
       "<plotly.tools.PlotlyDisplay object>"
      ]
     },
     "execution_count": 151,
     "metadata": {},
     "output_type": "execute_result"
    }
   ],
   "source": [
    "# map each cluster assignment to a colour\n",
    "color_map = {\n",
    "    0.0: '#e6f2ff', 1.0: '#99ccff', \n",
    "    2.0: '#ccccff', 3.0: '#cc99ff', \n",
    "    4.0: '#ff99ff', 5.0: '#ff6699', \n",
    "    6.0: '#ff9966', 7.0: '#ff6600',\n",
    "    8.0: '#ff5050', 9.0: '#ff0000',\n",
    "    10.0: '#18ff01', 11.0: '#6a2b11',\n",
    "    12.0: '#b7bf05', 13.0: '#2859c1'}\n",
    "cols = vecs_df['cluster'].map(color_map)\n",
    "\n",
    "# plot the data and centroids\n",
    "data_points = go.Scatter(\n",
    "    name = 'subreddits',\n",
    "    x = vecs_df['x'],\n",
    "    y = vecs_df['y'],\n",
    "    mode = 'markers',\n",
    "    marker = dict(\n",
    "        size = 6,\n",
    "        color = cols,\n",
    "    ),\n",
    "    text = vecs_df['name']\n",
    ")\n",
    "\n",
    "centroid_plot = go.Scatter(\n",
    "    name = 'centroids',\n",
    "    x = cents[:,0],\n",
    "    y = cents[:,1],\n",
    "    mode = 'markers',\n",
    "    marker = dict(\n",
    "        size = 6,\n",
    "        color = 'black',\n",
    "        symbol = 1\n",
    "    ),\n",
    ")\n",
    "\n",
    "data = [data_points,centroid_plot]\n",
    "\n",
    "py.iplot(data, filename='subreddit-clusters')"
   ]
  },
  {
   "cell_type": "markdown",
   "metadata": {},
   "source": [
    "And here is [the plot](https://plot.ly/~rlindsay22/4/subreddits-vs-centroids/)"
   ]
  }
 ],
 "metadata": {
  "kernelspec": {
   "display_name": "Python 3",
   "language": "python",
   "name": "python3"
  },
  "language_info": {
   "codemirror_mode": {
    "name": "ipython",
    "version": 3
   },
   "file_extension": ".py",
   "mimetype": "text/x-python",
   "name": "python",
   "nbconvert_exporter": "python",
   "pygments_lexer": "ipython3",
   "version": "3.6.5"
  }
 },
 "nbformat": 4,
 "nbformat_minor": 2
}
