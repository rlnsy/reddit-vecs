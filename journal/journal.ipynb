{
 "cells": [
  {
   "cell_type": "markdown",
   "metadata": {},
   "source": [
    "# Experimentation and Progress Journal\n",
    "This notebook serves as a log of analysis, experimentation, and development performed on the recommender models. It will be updated when and if I do something noteworthy in the project."
   ]
  },
  {
   "cell_type": "markdown",
   "metadata": {},
   "source": [
    "## Initial Data Analysis\n",
    "As an early step to get my bearings on things, I wrote a praw downloader and downloaded 10 top subreddits' content from 1000 of the last comments. After selecting top occurring words and counting them accross subreddits, I simply produced the following counts plot from a pandas DataFrame (Note that the y-axis is the word count and the x-axis reflects the arbitrary vocabulary list selected from the entire content set):\n",
    "![Word Count Sample Plot](counts_raw_all.png)\n",
    "Right off the bat, we can see a cluster of huge spikes toward the left of the plot, likely corresponsding to high-frequency words that are common to all subreddits. Also note that the entire plot is decreasing due to the sorted state of the word counts in the dataset.\n",
    "\n",
    "After mean normalizing the counts, I decided to run a little sanity-check analysis; I selected a subset of the normalized count data, in the 'word 140' to 'word 200' range to ignore the ultra-high frequency words,and produced this graph:\n",
    "![Features Sample Subset Plot](counts_norm_subset.png)\n",
    "where this time the y-axis corresponds to individual words from the vocabulary. As expected, subreddits like r/gadgets and r/gaming have high frequencies of words 'phone' and 'play' respectively. At least this seems to work!"
   ]
  }
 ],
 "metadata": {
  "kernelspec": {
   "display_name": "Python 3",
   "language": "python",
   "name": "python3"
  },
  "language_info": {
   "codemirror_mode": {
    "name": "ipython",
    "version": 3
   },
   "file_extension": ".py",
   "mimetype": "text/x-python",
   "name": "python",
   "nbconvert_exporter": "python",
   "pygments_lexer": "ipython3",
   "version": "3.6.5"
  }
 },
 "nbformat": 4,
 "nbformat_minor": 2
}
