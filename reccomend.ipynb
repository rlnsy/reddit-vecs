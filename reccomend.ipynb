{
 "cells": [
  {
   "cell_type": "markdown",
   "metadata": {},
   "source": [
    "# Visualizing User Subsciptions and Building a Reccomendation System\n",
    "To wrap up this project, I will use the subreddit vector representations (possibly in 3 dimensions) to reccomend subreddits give a user's current subscriptions. To start, I though it would make sense to plot a subscription set in the vector space. Here is an example of what that looks like (taken from one of my own reddit accounts)\n",
    "![Example User Subscriptions Plotted in 2d Space](figures/user_subscriptions.png)\n",
    "This particular account has a few subscriptions in the technology/programming region (far right), and a couple in other places. This makes it a pretty good representation of a typical user.\n",
    "\n",
    "## Reccomender Model\n",
    "### Hypothesis\n",
    "The subreddit reccomendation system is built around the idea that my subreddit reduced vector representations in 2 (or 3) - dimensional space embody similarities in content and/or discussion on the subreddits themselves, which I have observed to be generally true – excepting a few anomalies – when using the vectorization and dimensionality reduction techniques described in previous entries. Furthermore, the reccomender will use simple Euclidian distance as the metric by which to connect existing subscriptions to corrresponding reccomendations.\n",
    "### Versions\n",
    "In keeping true to my original inspiration for the project, I will implement two versions of the reccomender: One to suggest similar but undisovered subreddits based on existing subscriptions, and another to suggest those communities that fall far way from a user's existing subscription domain.\n",
    "### System\n",
    "The reccomender system is fairly simple, but ultimately both versions of the system should look something like this:\n",
    "\n",
    "\n",
    "![Reccomender Pipeline](figures/reccomender.png)\n",
    "\n",
    "Where the encoder and decoder simply find vector data from subreddit names, and vice-versa."
   ]
  },
  {
   "cell_type": "markdown",
   "metadata": {},
   "source": [
    "### Implementation – Similarity Version"
   ]
  },
  {
   "cell_type": "code",
   "execution_count": 123,
   "metadata": {},
   "outputs": [],
   "source": [
    "# load the vector mappings\n",
    "data_dir = 'data/dataset_medium'\n",
    "import pandas as pd\n",
    "vecs_map = pd.read_csv(data_dir + '/vecs.csv')"
   ]
  },
  {
   "cell_type": "code",
   "execution_count": 124,
   "metadata": {},
   "outputs": [],
   "source": [
    "import numpy as np\n",
    "import numpy.linalg as la\n",
    "\n",
    "# map subredit names to cartesian points\n",
    "def encode_subs(sub_names):\n",
    "    points_list = []\n",
    "    for i, name in enumerate(sub_names):\n",
    "        data_row = vecs_info.loc[vecs_info['name'] == name]\n",
    "        if data_row.empty == False:\n",
    "            point = data_row.loc[:,'x':'y'].values\n",
    "            points_list.append(point)\n",
    "            subscription_point_names.append(data_row['name'].values[0])\n",
    "    points = np.array(points_list).reshape((len(points_list),point.shape[1]))\n",
    "    return points"
   ]
  },
  {
   "cell_type": "code",
   "execution_count": 125,
   "metadata": {},
   "outputs": [
    {
     "data": {
      "text/plain": [
       "array(['coding', 'softwaredevelopment', 'Web_Development', 'FreeCodeCamp',\n",
       "       'webdev'], dtype=object)"
      ]
     },
     "execution_count": 125,
     "metadata": {},
     "output_type": "execute_result"
    }
   ],
   "source": [
    "# return a list of subreddit names,\n",
    "# sorted by their distance to input sub\n",
    "def sort_dists(sub):\n",
    "    point_mapping = encode_subs([sub])\n",
    "    \n",
    "    if len(point_mapping) > 0:\n",
    "        point_mapping = encode_subs([sub])[0]\n",
    "    else:\n",
    "        print('subreddit does not match any in the database')\n",
    "        return []\n",
    "    \n",
    "    v = point_mapping.T\n",
    "    X = vecs_map.loc[:,'x':'y'].values\n",
    "    D = np.subtract(X, v)\n",
    "    \n",
    "    dists = la.norm(D,axis=1)\n",
    "    dists_map = pd.DataFrame({'name': vecs_map['name'], 'dist': dists}, columns=['name','dist'])\n",
    "    dists = dists_map.sort_values('dist')['name'].values[1:len(dists) + 1] # remove input sub\n",
    "    return dists\n",
    "\n",
    "sort_dists('learnprogramming')[0:5]"
   ]
  },
  {
   "cell_type": "markdown",
   "metadata": {},
   "source": [
    "The similarity reccomender works as expected. In a deployed version of the model, one might allow a user to view reccomendations in the order supplied by the function, limited by user preference and easily 'skippable'."
   ]
  }
 ],
 "metadata": {
  "kernelspec": {
   "display_name": "Python 3",
   "language": "python",
   "name": "python3"
  },
  "language_info": {
   "codemirror_mode": {
    "name": "ipython",
    "version": 3
   },
   "file_extension": ".py",
   "mimetype": "text/x-python",
   "name": "python",
   "nbconvert_exporter": "python",
   "pygments_lexer": "ipython3",
   "version": "3.6.5"
  }
 },
 "nbformat": 4,
 "nbformat_minor": 2
}
